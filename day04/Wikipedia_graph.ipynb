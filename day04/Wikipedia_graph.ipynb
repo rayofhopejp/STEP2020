{
 "cells": [
  {
   "cell_type": "markdown",
   "metadata": {},
   "source": [
    "# wikipedia Optional\n",
    "いちいちグラフの読み込みに時間がかかるのでこれだけipynbにしました。"
   ]
  },
  {
   "cell_type": "markdown",
   "metadata": {},
   "source": [
    "## グラフの読み込み"
   ]
  },
  {
   "cell_type": "code",
   "execution_count": 2,
   "metadata": {},
   "outputs": [],
   "source": [
    "import copy\n",
    "import random\n",
    "def read_graph_data(linksfile,namesfile):\n",
    "    lf = open(linksfile)\n",
    "    nf = open(namesfile)\n",
    "    names=dict([line.strip().split() for line in nf.readlines()])\n",
    "    nodelist={v:[] for v in names.values()} #dict\n",
    "    for line in lf.readlines():\n",
    "        n_from,n_to=line.strip().split()\n",
    "        \n",
    "        nodelist[ names[n_from] ].append(names[n_to])\n",
    "    lf.close()\n",
    "    nf.close()\n",
    "    return nodelist\n",
    "\n"
   ]
  },
  {
   "cell_type": "code",
   "execution_count": 3,
   "metadata": {},
   "outputs": [
    {
     "name": "stdout",
     "output_type": "stream",
     "text": [
      "読み込み完了\n"
     ]
    }
   ],
   "source": [
    "#グラフの読み込み\n",
    "graph=read_graph_data(\"./wikipedia_links/links.txt\",\"./wikipedia_links/pages.txt\")\n",
    "print(\"読み込み完了\")\n"
   ]
  },
  {
   "cell_type": "markdown",
   "metadata": {},
   "source": [
    "## 任意の2頂点間の最短経路を調べる"
   ]
  },
  {
   "cell_type": "code",
   "execution_count": 22,
   "metadata": {},
   "outputs": [],
   "source": [
    "#adrianからあなたに行けるか？\n",
    "def isConnected_BFS(graph,A,B): #AとBがグラフ上で連結しているかと、最短距離をBFSでもとめる\n",
    "    #BFSは重みなしグラフの単一始点最短経路問題において最も効率が良いアルゴリズムである。\n",
    "    if A not in graph or B not in graph:\n",
    "        return \"そのような人はいません\"\n",
    "    now=[A,] \n",
    "    visited={ k:0 for k in graph.keys()}\n",
    "    visited[A]=1\n",
    "    count=0\n",
    "    if A==B:\n",
    "        return count\n",
    "    while len(now)>0:\n",
    "        count+=1\n",
    "        nxt=[]\n",
    "        for i in now:\n",
    "            for next_node in graph[i]: \n",
    "                if next_node==B:\n",
    "                    return str(count)+\"回辺を辿れば到達できます\"\n",
    "                if  visited[next_node]==0:\n",
    "                    visited[next_node]=1\n",
    "                    nxt.append(next_node)\n",
    "        now=nxt\n",
    "    return \"到達できません\""
   ]
  },
  {
   "cell_type": "code",
   "execution_count": 23,
   "metadata": {},
   "outputs": [
    {
     "data": {
      "text/plain": [
       "'2回辺を辿れば到達できます'"
      ]
     },
     "execution_count": 23,
     "metadata": {},
     "output_type": "execute_result"
    }
   ],
   "source": [
    "isConnected_BFS(graph,\"渋谷\",\"\")"
   ]
  },
  {
   "cell_type": "markdown",
   "metadata": {},
   "source": [
    "## 小さいグラフの作成"
   ]
  },
  {
   "cell_type": "code",
   "execution_count": 4,
   "metadata": {},
   "outputs": [],
   "source": [
    "def collect_around(graph,start,N):\n",
    "    if start not in graph:\n",
    "        print(\"ERROR:そのような記事はありません\")\n",
    "        exit(1)\n",
    "    now=[start,] \n",
    "    around=[start,]\n",
    "    visited={ k:0 for k in graph.keys()}\n",
    "    visited[start]=1\n",
    "    for i in range(N):\n",
    "        nxt=[]\n",
    "        for i in now:\n",
    "            for next_node in graph[i]: \n",
    "                if  visited[next_node]==0:\n",
    "                    visited[next_node]=1\n",
    "                    around.append(next_node)\n",
    "                    nxt.append(next_node)\n",
    "        now=nxt\n",
    "    return around\n",
    "\n",
    "def make_small_graph(graph,selected):\n",
    "    newgraph={k:[] for k in selected}\n",
    "    for frm in selected:\n",
    "        for to in graph[frm]:\n",
    "            if to in selected:\n",
    "                newgraph[frm].append(to)\n",
    "    return newgraph\n",
    "\n"
   ]
  },
  {
   "cell_type": "code",
   "execution_count": 7,
   "metadata": {},
   "outputs": [
    {
     "name": "stdout",
     "output_type": "stream",
     "text": [
      "322\n",
      "5\n"
     ]
    }
   ],
   "source": [
    "#小さなグラフをつくる（計算量が大きいので）\n",
    "around=collect_around(graph,\"渋谷\",1)\n",
    "print(len(around))\n",
    "around_graph=make_small_graph(graph,around)\n",
    "print(len(around_graph['音楽']))\n"
   ]
  },
  {
   "cell_type": "markdown",
   "metadata": {},
   "source": [
    "## 媒介中心性の計算、コミュニティ検出"
   ]
  },
  {
   "cell_type": "code",
   "execution_count": 9,
   "metadata": {},
   "outputs": [],
   "source": [
    "import queue\n",
    "def count_betweeness_Brandes(graph):#ノード、辺の媒介中心性の計算\n",
    "    edge_betweeness={}#(from,to):edge betweeness\n",
    "    for frm,tos in graph.items():#全てのノードを追加\n",
    "        for to in tos:\n",
    "            edge_betweeness[(frm,to)]=0\n",
    "    #algorithm:https://www.eecs.wsu.edu/~assefaw/CptS580-06/papers/brandes01centrality.pdf\n",
    "    #は頂点の媒介中心性を求めているので、それを辺にも応用したもの\n",
    "    #ちなみにノードの中心媒介性はそのまま用いてもノードの重要度の指標になりそう。\n",
    "    C_b={k:0 for k in graph.keys()}\n",
    "    for s in graph.keys():\n",
    "        S=[] #stack\n",
    "        P={k:[] for k in graph.keys()} #P[v]:頂点vに向かう最短経路において前に通った頂点のリスト\n",
    "        sigma={k:0 for k in graph.keys()}#最短経路の数\n",
    "        sigma[s]=1\n",
    "        d={k:-1 for k in graph.keys()}#P[v]:sからvへの最短距離\n",
    "        d[s]=0\n",
    "        #ここは普通にBFSを行っている\n",
    "        Q=queue.Queue()\n",
    "        Q.put(s)\n",
    "        while not Q.empty():\n",
    "            v=Q.get()\n",
    "            S.append(v)#sから近い順に（最短距離が単調増加に）格納される\n",
    "            for w in graph[v]:\n",
    "                if d[w]<0:\n",
    "                    Q.put(w)\n",
    "                    d[w]=d[v]+1\n",
    "                if d[w]==d[v]+1:\n",
    "                    sigma[w]+=sigma[v]\n",
    "                    P[w].append(v)\n",
    "        delta={k:0 for k in graph.keys()}#これはsを始点とした時の頂点kの媒介中心性が求まる\n",
    "        delta_edge={k:0 for k in edge_betweeness.keys()}#これはsを始点とした時のedgeの媒介中心性が求まる\n",
    "        while len(S)>0:\n",
    "            to=S.pop()#これは必ずsから遠い順に取り出される\n",
    "            for frm in P[to]:#toの前に通った頂点frmに対して\n",
    "                delta[frm]+=sigma[frm]/sigma[to]*(1+delta[to])\n",
    "                #toの媒介中心性(決定済み)にsigma[frm]/sigma[to]をかければ辺の媒介性が求まる\n",
    "                edge_betweeness[(frm,to)]+=(sigma[frm]/sigma[to])*delta[to]\n",
    "            if to!=s:\n",
    "                C_b[to]+=delta[to]\n",
    "    return C_b,edge_betweeness\n",
    "\n",
    "\n",
    "def connected_groups(graph_directed):\n",
    "    #連結であるとは、そのグループの中のどの2頂点を選んでもどちらか一方向に道が存在することとする。\n",
    "    #無向グラフにしておく（ちょっとアレな手法かもしれない…）\n",
    "    graph=copy.deepcopy(graph_directed)\n",
    "    for frm,tos in graph.items():\n",
    "        for to in tos:\n",
    "            if frm not in graph[to]:\n",
    "                graph[to].append(frm)\n",
    "    groups=[]\n",
    "    not_connected=[k for k in graph.keys()]\n",
    "    while len(not_connected)>0:#全てのノードを始点としてBFSを行う\n",
    "        start=not_connected.pop()\n",
    "        group=[start,]\n",
    "        now=[start,] \n",
    "        visited={ k:0 for k in graph.keys()}\n",
    "        visited[start]=1\n",
    "        count=0\n",
    "        while len(now)>0:\n",
    "            count+=1\n",
    "            nxt=[]\n",
    "            for i in now:\n",
    "                for next_node in graph[i]: \n",
    "                    if  visited[next_node]==0:\n",
    "                        group.append(next_node)\n",
    "                        assert(next_node in not_connected)#無向グラフならこの条件を満たすはず\n",
    "                        not_connected.remove(next_node)\n",
    "                        visited[next_node]=1\n",
    "                        nxt.append(next_node)\n",
    "            now=nxt\n",
    "        groups.append(group)\n",
    "    return groups\n",
    "\n",
    "#Nグループに分割する（Girvan-Newman法）→授業のグループとの関係が見えるのでは\n",
    "def grouping_girvan_newman(graph,N):\n",
    "    new_graph=copy.deepcopy(graph)\n",
    "    connected_groups_now=connected_groups(new_graph)\n",
    "    #最初の連結成分\n",
    "    print(\"初期状態：\")\n",
    "    print(str(len(connected_groups_now))+\"groups\",*connected_groups_now,sep='\\n')\n",
    "    while True:\n",
    "        groups=[]\n",
    "        #1.残っている全てのリンクのedge betweennessを計算する\n",
    "        #node_betweenessは、ある頂点が任意の2ノード間の最短パスに含まれる回数。（ただし自分が始点、終点であるものは除く）\n",
    "        #edge_betweenessは、ある辺が任意の2ノード間の最短パスに含まれる回数\n",
    "        node_betweeness,edge_betweeness=count_betweeness_Brandes(new_graph)\n",
    "        #「到達できる場合最短経路長は必ず1である状態」になったらそれ以上の分類は不可能なので\n",
    "        #辺を切ることをやめる\n",
    "        if max(node_betweeness.values())==0:\n",
    "            print(\"到達できる場合最短経路長は必ず1である状態です。\")\n",
    "            connected_groups_now=connected_groups(new_graph)\n",
    "            return len(connected_groups_now),connected_groups(new_graph)\n",
    "        #2.そうでない場合、最もedge betweenessが高いリンクを切る。\n",
    "        max_edge_from,max_edge_to=max(edge_betweeness, key=edge_betweeness.get)\n",
    "        #print(\"removed:\",max_edge_from,max_edge_to,edge_betweeness[(max_edge_from,max_edge_to)])\n",
    "        new_graph[max_edge_from].remove(max_edge_to)\n",
    "        #3.1-2を、連結成分がN個になるまで繰り返す。\n",
    "        connected_groups_now=connected_groups(new_graph)\n",
    "        if len(connected_groups_now)>=N:\n",
    "            return len(connected_groups_now),connected_groups_now\n"
   ]
  },
  {
   "cell_type": "code",
   "execution_count": 10,
   "metadata": {},
   "outputs": [
    {
     "name": "stdout",
     "output_type": "stream",
     "text": [
      "最も中心媒介性が高い記事を選びました。\n",
      "渋谷\n"
     ]
    }
   ],
   "source": [
    "print(\"最も媒介中心性が高い記事を選びました。\")\n",
    "node_betweeness,edge_betweeness=count_betweeness_Brandes(around_graph)\n",
    "important_article=max(node_betweeness, key=node_betweeness.get)\n",
    "print(important_article)"
   ]
  },
  {
   "cell_type": "markdown",
   "metadata": {},
   "source": [
    "(渋谷が最も高いのそれはそう、なぜなら渋谷の周りの記事を集めたのだからおそらくほぼ全ての最短路において渋谷を経由しているから)\n"
   ]
  },
  {
   "cell_type": "code",
   "execution_count": 14,
   "metadata": {},
   "outputs": [
    {
     "name": "stdout",
     "output_type": "stream",
     "text": [
      "媒介中心性が高い記事をいくつか選びました。\n",
      "('渋谷', 41584.21016569537)\n",
      "('渋谷区', 10597.363803706068)\n",
      "('東京都', 9352.71009692459)\n",
      "('日本', 7026.995315438036)\n",
      "('渋谷駅', 5892.528568959307)\n",
      "('東京都区部', 5514.276347483476)\n",
      "('東京', 4261.079462614647)\n",
      "('江戸時代', 2222.977703596916)\n",
      "('新宿', 1741.6214470517154)\n",
      "('山手線', 1471.6020554648596)\n"
     ]
    }
   ],
   "source": [
    "print(\"媒介中心性が高い記事をいくつか選びました。\")\n",
    "print(*sorted(node_betweeness.items(), key=lambda x:-x[1])[0:10],sep='\\n')"
   ]
  },
  {
   "cell_type": "markdown",
   "metadata": {},
   "source": [
    "我々に馴染みの深い記事が選ばれており、かなりいい結果に見える。\n",
    "\n"
   ]
  },
  {
   "cell_type": "markdown",
   "metadata": {},
   "source": [
    "------\n",
    "…ここより以下のコードは計算量が大きすぎて実行がなかなか終わらないのでまだ試していません"
   ]
  },
  {
   "cell_type": "markdown",
   "metadata": {},
   "source": [
    "もう少し大きなグラフで試してみよう。"
   ]
  },
  {
   "cell_type": "code",
   "execution_count": 17,
   "metadata": {},
   "outputs": [
    {
     "name": "stdout",
     "output_type": "stream",
     "text": [
      "39374\n"
     ]
    },
    {
     "ename": "KeyboardInterrupt",
     "evalue": "",
     "output_type": "error",
     "traceback": [
      "\u001b[0;31m---------------------------------------------------------------------------\u001b[0m",
      "\u001b[0;31mKeyboardInterrupt\u001b[0m                         Traceback (most recent call last)",
      "\u001b[0;32m<ipython-input-17-52f4e3e9fddb>\u001b[0m in \u001b[0;36m<module>\u001b[0;34m\u001b[0m\n\u001b[1;32m      2\u001b[0m \u001b[0maround_bigger\u001b[0m\u001b[0;34m=\u001b[0m\u001b[0mcollect_around\u001b[0m\u001b[0;34m(\u001b[0m\u001b[0mgraph\u001b[0m\u001b[0;34m,\u001b[0m\u001b[0;34m\"渋谷\"\u001b[0m\u001b[0;34m,\u001b[0m\u001b[0;36m2\u001b[0m\u001b[0;34m)\u001b[0m\u001b[0;34m\u001b[0m\u001b[0;34m\u001b[0m\u001b[0m\n\u001b[1;32m      3\u001b[0m \u001b[0mprint\u001b[0m\u001b[0;34m(\u001b[0m\u001b[0mlen\u001b[0m\u001b[0;34m(\u001b[0m\u001b[0maround_bigger\u001b[0m\u001b[0;34m)\u001b[0m\u001b[0;34m)\u001b[0m\u001b[0;34m\u001b[0m\u001b[0;34m\u001b[0m\u001b[0m\n\u001b[0;32m----> 4\u001b[0;31m \u001b[0maround_graph_bigger\u001b[0m\u001b[0;34m=\u001b[0m\u001b[0mmake_small_graph\u001b[0m\u001b[0;34m(\u001b[0m\u001b[0mgraph\u001b[0m\u001b[0;34m,\u001b[0m\u001b[0maround_bigger\u001b[0m\u001b[0;34m)\u001b[0m\u001b[0;34m\u001b[0m\u001b[0;34m\u001b[0m\u001b[0m\n\u001b[0m\u001b[1;32m      5\u001b[0m \u001b[0mprint\u001b[0m\u001b[0;34m(\u001b[0m\u001b[0mlen\u001b[0m\u001b[0;34m(\u001b[0m\u001b[0maround_graph_bigger\u001b[0m\u001b[0;34m[\u001b[0m\u001b[0;34m'音楽'\u001b[0m\u001b[0;34m]\u001b[0m\u001b[0;34m)\u001b[0m\u001b[0;34m)\u001b[0m\u001b[0;34m\u001b[0m\u001b[0;34m\u001b[0m\u001b[0m\n\u001b[1;32m      6\u001b[0m \u001b[0mnode_betweeness\u001b[0m\u001b[0;34m,\u001b[0m\u001b[0medge_betweeness\u001b[0m\u001b[0;34m=\u001b[0m\u001b[0mcount_betweeness_Brandes\u001b[0m\u001b[0;34m(\u001b[0m\u001b[0maround_graph_bigger\u001b[0m\u001b[0;34m)\u001b[0m\u001b[0;34m\u001b[0m\u001b[0;34m\u001b[0m\u001b[0m\n",
      "\u001b[0;32m<ipython-input-4-3057cf63a791>\u001b[0m in \u001b[0;36mmake_small_graph\u001b[0;34m(graph, selected)\u001b[0m\n\u001b[1;32m     22\u001b[0m     \u001b[0;32mfor\u001b[0m \u001b[0mfrm\u001b[0m \u001b[0;32min\u001b[0m \u001b[0mselected\u001b[0m\u001b[0;34m:\u001b[0m\u001b[0;34m\u001b[0m\u001b[0;34m\u001b[0m\u001b[0m\n\u001b[1;32m     23\u001b[0m         \u001b[0;32mfor\u001b[0m \u001b[0mto\u001b[0m \u001b[0;32min\u001b[0m \u001b[0mgraph\u001b[0m\u001b[0;34m[\u001b[0m\u001b[0mfrm\u001b[0m\u001b[0;34m]\u001b[0m\u001b[0;34m:\u001b[0m\u001b[0;34m\u001b[0m\u001b[0;34m\u001b[0m\u001b[0m\n\u001b[0;32m---> 24\u001b[0;31m             \u001b[0;32mif\u001b[0m \u001b[0mto\u001b[0m \u001b[0;32min\u001b[0m \u001b[0mselected\u001b[0m\u001b[0;34m:\u001b[0m\u001b[0;34m\u001b[0m\u001b[0;34m\u001b[0m\u001b[0m\n\u001b[0m\u001b[1;32m     25\u001b[0m                 \u001b[0mnewgraph\u001b[0m\u001b[0;34m[\u001b[0m\u001b[0mfrm\u001b[0m\u001b[0;34m]\u001b[0m\u001b[0;34m.\u001b[0m\u001b[0mappend\u001b[0m\u001b[0;34m(\u001b[0m\u001b[0mto\u001b[0m\u001b[0;34m)\u001b[0m\u001b[0;34m\u001b[0m\u001b[0;34m\u001b[0m\u001b[0m\n\u001b[1;32m     26\u001b[0m     \u001b[0;32mreturn\u001b[0m \u001b[0mnewgraph\u001b[0m\u001b[0;34m\u001b[0m\u001b[0;34m\u001b[0m\u001b[0m\n",
      "\u001b[0;31mKeyboardInterrupt\u001b[0m: "
     ]
    }
   ],
   "source": [
    "#小さなグラフをつくる（計算量が大きいので）\n",
    "around_bigger=collect_around(graph,\"渋谷\",2)\n",
    "print(len(around_bigger))\n",
    "around_graph_bigger=make_small_graph(graph,around_bigger)\n",
    "print(len(around_graph_bigger['音楽']))\n",
    "node_betweeness,edge_betweeness=count_betweeness_Brandes(around_graph_bigger)\n",
    "important_article=max(node_betweeness, key=node_betweeness.get)\n",
    "print(\"媒介中心性が高い記事をいくつか選びました。\")\n",
    "print(*sorted(node_betweeness.items(), key=lambda x:-x[1])[0:10],sep='\\n')"
   ]
  },
  {
   "cell_type": "markdown",
   "metadata": {},
   "source": [
    " ## クラスタリング\n"
   ]
  },
  {
   "cell_type": "code",
   "execution_count": 15,
   "metadata": {},
   "outputs": [
    {
     "name": "stdout",
     "output_type": "stream",
     "text": [
      "Divide members to N groups:\n",
      "N:10\n"
     ]
    },
    {
     "ename": "KeyboardInterrupt",
     "evalue": "",
     "output_type": "error",
     "traceback": [
      "\u001b[0;31m---------------------------------------------------------------------------\u001b[0m",
      "\u001b[0;31mKeyboardInterrupt\u001b[0m                         Traceback (most recent call last)",
      "\u001b[0;32m<ipython-input-15-3b54c95bd5c8>\u001b[0m in \u001b[0;36m<module>\u001b[0;34m\u001b[0m\n\u001b[1;32m      1\u001b[0m \u001b[0mprint\u001b[0m\u001b[0;34m(\u001b[0m\u001b[0;34m\"Divide members to N groups:\"\u001b[0m\u001b[0;34m)\u001b[0m\u001b[0;34m\u001b[0m\u001b[0;34m\u001b[0m\u001b[0m\n\u001b[1;32m      2\u001b[0m \u001b[0mN\u001b[0m\u001b[0;34m=\u001b[0m\u001b[0mint\u001b[0m\u001b[0;34m(\u001b[0m\u001b[0minput\u001b[0m\u001b[0;34m(\u001b[0m\u001b[0;34m\"N:\"\u001b[0m\u001b[0;34m)\u001b[0m\u001b[0;34m)\u001b[0m\u001b[0;34m\u001b[0m\u001b[0;34m\u001b[0m\u001b[0m\n\u001b[0;32m----> 3\u001b[0;31m \u001b[0mgroupnum\u001b[0m\u001b[0;34m,\u001b[0m\u001b[0mgroups\u001b[0m\u001b[0;34m=\u001b[0m\u001b[0mgrouping_girvan_newman\u001b[0m\u001b[0;34m(\u001b[0m\u001b[0mgraph\u001b[0m\u001b[0;34m,\u001b[0m\u001b[0mN\u001b[0m\u001b[0;34m)\u001b[0m\u001b[0;34m\u001b[0m\u001b[0;34m\u001b[0m\u001b[0m\n\u001b[0m\u001b[1;32m      4\u001b[0m \u001b[0mprint\u001b[0m\u001b[0;34m(\u001b[0m\u001b[0mgroupnum\u001b[0m\u001b[0;34m,\u001b[0m\u001b[0;34m\"groups:\"\u001b[0m\u001b[0;34m)\u001b[0m\u001b[0;34m\u001b[0m\u001b[0;34m\u001b[0m\u001b[0m\n\u001b[1;32m      5\u001b[0m \u001b[0mprint\u001b[0m\u001b[0;34m(\u001b[0m\u001b[0;34m*\u001b[0m\u001b[0mgroups\u001b[0m\u001b[0;34m,\u001b[0m\u001b[0msep\u001b[0m\u001b[0;34m=\u001b[0m\u001b[0;34m'\\n'\u001b[0m\u001b[0;34m)\u001b[0m\u001b[0;34m\u001b[0m\u001b[0;34m\u001b[0m\u001b[0m\n",
      "\u001b[0;32m<ipython-input-9-2fbceae4fb46>\u001b[0m in \u001b[0;36mgrouping_girvan_newman\u001b[0;34m(graph, N)\u001b[0m\n\u001b[1;32m     77\u001b[0m \u001b[0;32mdef\u001b[0m \u001b[0mgrouping_girvan_newman\u001b[0m\u001b[0;34m(\u001b[0m\u001b[0mgraph\u001b[0m\u001b[0;34m,\u001b[0m\u001b[0mN\u001b[0m\u001b[0;34m)\u001b[0m\u001b[0;34m:\u001b[0m\u001b[0;34m\u001b[0m\u001b[0;34m\u001b[0m\u001b[0m\n\u001b[1;32m     78\u001b[0m     \u001b[0mnew_graph\u001b[0m\u001b[0;34m=\u001b[0m\u001b[0mcopy\u001b[0m\u001b[0;34m.\u001b[0m\u001b[0mdeepcopy\u001b[0m\u001b[0;34m(\u001b[0m\u001b[0mgraph\u001b[0m\u001b[0;34m)\u001b[0m\u001b[0;34m\u001b[0m\u001b[0;34m\u001b[0m\u001b[0m\n\u001b[0;32m---> 79\u001b[0;31m     \u001b[0mconnected_groups_now\u001b[0m\u001b[0;34m=\u001b[0m\u001b[0mconnected_groups\u001b[0m\u001b[0;34m(\u001b[0m\u001b[0mnew_graph\u001b[0m\u001b[0;34m)\u001b[0m\u001b[0;34m\u001b[0m\u001b[0;34m\u001b[0m\u001b[0m\n\u001b[0m\u001b[1;32m     80\u001b[0m     \u001b[0;31m#最初の連結成分\u001b[0m\u001b[0;34m\u001b[0m\u001b[0;34m\u001b[0m\u001b[0;34m\u001b[0m\u001b[0m\n\u001b[1;32m     81\u001b[0m     \u001b[0mprint\u001b[0m\u001b[0;34m(\u001b[0m\u001b[0;34m\"初期状態：\"\u001b[0m\u001b[0;34m)\u001b[0m\u001b[0;34m\u001b[0m\u001b[0;34m\u001b[0m\u001b[0m\n",
      "\u001b[0;32m<ipython-input-9-2fbceae4fb46>\u001b[0m in \u001b[0;36mconnected_groups\u001b[0;34m(graph_directed)\u001b[0m\n\u001b[1;32m     48\u001b[0m     \u001b[0;32mfor\u001b[0m \u001b[0mfrm\u001b[0m\u001b[0;34m,\u001b[0m\u001b[0mtos\u001b[0m \u001b[0;32min\u001b[0m \u001b[0mgraph\u001b[0m\u001b[0;34m.\u001b[0m\u001b[0mitems\u001b[0m\u001b[0;34m(\u001b[0m\u001b[0;34m)\u001b[0m\u001b[0;34m:\u001b[0m\u001b[0;34m\u001b[0m\u001b[0;34m\u001b[0m\u001b[0m\n\u001b[1;32m     49\u001b[0m         \u001b[0;32mfor\u001b[0m \u001b[0mto\u001b[0m \u001b[0;32min\u001b[0m \u001b[0mtos\u001b[0m\u001b[0;34m:\u001b[0m\u001b[0;34m\u001b[0m\u001b[0;34m\u001b[0m\u001b[0m\n\u001b[0;32m---> 50\u001b[0;31m             \u001b[0;32mif\u001b[0m \u001b[0mfrm\u001b[0m \u001b[0;32mnot\u001b[0m \u001b[0;32min\u001b[0m \u001b[0mgraph\u001b[0m\u001b[0;34m[\u001b[0m\u001b[0mto\u001b[0m\u001b[0;34m]\u001b[0m\u001b[0;34m:\u001b[0m\u001b[0;34m\u001b[0m\u001b[0;34m\u001b[0m\u001b[0m\n\u001b[0m\u001b[1;32m     51\u001b[0m                 \u001b[0mgraph\u001b[0m\u001b[0;34m[\u001b[0m\u001b[0mto\u001b[0m\u001b[0;34m]\u001b[0m\u001b[0;34m.\u001b[0m\u001b[0mappend\u001b[0m\u001b[0;34m(\u001b[0m\u001b[0mfrm\u001b[0m\u001b[0;34m)\u001b[0m\u001b[0;34m\u001b[0m\u001b[0;34m\u001b[0m\u001b[0m\n\u001b[1;32m     52\u001b[0m     \u001b[0mgroups\u001b[0m\u001b[0;34m=\u001b[0m\u001b[0;34m[\u001b[0m\u001b[0;34m]\u001b[0m\u001b[0;34m\u001b[0m\u001b[0;34m\u001b[0m\u001b[0m\n",
      "\u001b[0;31mKeyboardInterrupt\u001b[0m: "
     ]
    }
   ],
   "source": [
    "print(\"Divide members to N groups:\")\n",
    "N=int(input(\"N:\"))\n",
    "groupnum,groups=grouping_girvan_newman(graph,N)\n",
    "print(groupnum,\"groups:\")\n",
    "print(*groups,sep='\\n')"
   ]
  },
  {
   "cell_type": "code",
   "execution_count": null,
   "metadata": {},
   "outputs": [],
   "source": []
  }
 ],
 "metadata": {
  "kernelspec": {
   "display_name": "Python 3",
   "language": "python",
   "name": "python3"
  },
  "language_info": {
   "codemirror_mode": {
    "name": "ipython",
    "version": 3
   },
   "file_extension": ".py",
   "mimetype": "text/x-python",
   "name": "python",
   "nbconvert_exporter": "python",
   "pygments_lexer": "ipython3",
   "version": "3.7.2"
  }
 },
 "nbformat": 4,
 "nbformat_minor": 2
}
